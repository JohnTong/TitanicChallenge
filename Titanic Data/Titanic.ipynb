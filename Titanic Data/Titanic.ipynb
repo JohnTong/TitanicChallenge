{
 "cells": [
  {
   "cell_type": "code",
   "execution_count": 3,
   "metadata": {},
   "outputs": [],
   "source": [
    "# Load packages\n",
    "library('ggplot2') # visualization\n",
    "library('ggthemes') # visualization\n",
    "library('scales') # visualization\n",
    "library('knitr') # visualization\n",
    "library('dplyr') # data manipulation\n",
    "library('mice') # imputation\n",
    "library('randomForest') # classification algorithm"
   ]
  },
  {
   "cell_type": "code",
   "execution_count": 4,
   "metadata": {},
   "outputs": [],
   "source": [
    "# import our two data sets\n",
    "train <- read.csv('./input/train.csv', na = '')\n",
    "test <- read.csv('./input/test.csv', na = '')\n",
    "\n",
    "full <- bind_rows(train, test) # combine them so we can perform operations on both."
   ]
  },
  {
   "cell_type": "markdown",
   "metadata": {},
   "source": [
    "# The Data\n",
    "Let's just go column by column and see what relevant data they provide and if there's any opportunity for some **feature engineering**.\n",
    "\n",
    "## PassengerId\n",
    "Nothing useful here. Moving on.\n",
    "\n",
    "## Pclass\n",
    "This will surely yield some useful information, let's see."
   ]
  },
  {
   "cell_type": "code",
   "execution_count": 5,
   "metadata": {},
   "outputs": [
    {
     "data": {
      "text/plain": [
       "   \n",
       "      1   2   3\n",
       "  0  80  97 372\n",
       "  1 136  87 119"
      ]
     },
     "metadata": {},
     "output_type": "display_data"
    }
   ],
   "source": [
    "table(full$Survived, full$Pclass)"
   ]
  },
  {
   "cell_type": "markdown",
   "metadata": {},
   "source": [
    "Clearly, being rich helped. It makes sense, since the first class passengers had access to the upper decks and had a better chance of being close to lifeboats when the boat started to sink. The data is pretty straightforward and there's not much additional data to be gleaned (yet).\n",
    "\n",
    "## Name\n",
    "The names of the passengers has some value, I think. In particular, the titles given to each passenger, especially the designation of 'Miss' and 'Mrs' to differentiate married and unwed women, could produce additional data for our algorithm."
   ]
  },
  {
   "cell_type": "code",
   "execution_count": 6,
   "metadata": {},
   "outputs": [
    {
     "data": {
      "text/html": [
       "<table>\n",
       "<caption>A grouped_df: 19 × 3</caption>\n",
       "<thead>\n",
       "\t<tr><th scope=col>Sex</th><th scope=col>Title</th><th scope=col>n</th></tr>\n",
       "\t<tr><th scope=col>&lt;chr&gt;</th><th scope=col>&lt;chr&gt;</th><th scope=col>&lt;int&gt;</th></tr>\n",
       "</thead>\n",
       "<tbody>\n",
       "\t<tr><td>female</td><td>Dona        </td><td>  1</td></tr>\n",
       "\t<tr><td>female</td><td>Dr          </td><td>  1</td></tr>\n",
       "\t<tr><td>female</td><td>Lady        </td><td>  1</td></tr>\n",
       "\t<tr><td>female</td><td>Miss        </td><td>260</td></tr>\n",
       "\t<tr><td>female</td><td>Mlle        </td><td>  2</td></tr>\n",
       "\t<tr><td>female</td><td>Mme         </td><td>  1</td></tr>\n",
       "\t<tr><td>female</td><td>Mrs         </td><td>197</td></tr>\n",
       "\t<tr><td>female</td><td>Ms          </td><td>  2</td></tr>\n",
       "\t<tr><td>female</td><td>the Countess</td><td>  1</td></tr>\n",
       "\t<tr><td>male  </td><td>Capt        </td><td>  1</td></tr>\n",
       "\t<tr><td>male  </td><td>Col         </td><td>  4</td></tr>\n",
       "\t<tr><td>male  </td><td>Don         </td><td>  1</td></tr>\n",
       "\t<tr><td>male  </td><td>Dr          </td><td>  7</td></tr>\n",
       "\t<tr><td>male  </td><td>Jonkheer    </td><td>  1</td></tr>\n",
       "\t<tr><td>male  </td><td>Major       </td><td>  2</td></tr>\n",
       "\t<tr><td>male  </td><td>Master      </td><td> 61</td></tr>\n",
       "\t<tr><td>male  </td><td>Mr          </td><td>757</td></tr>\n",
       "\t<tr><td>male  </td><td>Rev         </td><td>  8</td></tr>\n",
       "\t<tr><td>male  </td><td>Sir         </td><td>  1</td></tr>\n",
       "</tbody>\n",
       "</table>\n"
      ],
      "text/latex": [
       "A grouped\\_df: 19 × 3\n",
       "\\begin{tabular}{lll}\n",
       " Sex & Title & n\\\\\n",
       " <chr> & <chr> & <int>\\\\\n",
       "\\hline\n",
       "\t female & Dona         &   1\\\\\n",
       "\t female & Dr           &   1\\\\\n",
       "\t female & Lady         &   1\\\\\n",
       "\t female & Miss         & 260\\\\\n",
       "\t female & Mlle         &   2\\\\\n",
       "\t female & Mme          &   1\\\\\n",
       "\t female & Mrs          & 197\\\\\n",
       "\t female & Ms           &   2\\\\\n",
       "\t female & the Countess &   1\\\\\n",
       "\t male   & Capt         &   1\\\\\n",
       "\t male   & Col          &   4\\\\\n",
       "\t male   & Don          &   1\\\\\n",
       "\t male   & Dr           &   7\\\\\n",
       "\t male   & Jonkheer     &   1\\\\\n",
       "\t male   & Major        &   2\\\\\n",
       "\t male   & Master       &  61\\\\\n",
       "\t male   & Mr           & 757\\\\\n",
       "\t male   & Rev          &   8\\\\\n",
       "\t male   & Sir          &   1\\\\\n",
       "\\end{tabular}\n"
      ],
      "text/markdown": [
       "\n",
       "A grouped_df: 19 × 3\n",
       "\n",
       "| Sex &lt;chr&gt; | Title &lt;chr&gt; | n &lt;int&gt; |\n",
       "|---|---|---|\n",
       "| female | Dona         |   1 |\n",
       "| female | Dr           |   1 |\n",
       "| female | Lady         |   1 |\n",
       "| female | Miss         | 260 |\n",
       "| female | Mlle         |   2 |\n",
       "| female | Mme          |   1 |\n",
       "| female | Mrs          | 197 |\n",
       "| female | Ms           |   2 |\n",
       "| female | the Countess |   1 |\n",
       "| male   | Capt         |   1 |\n",
       "| male   | Col          |   4 |\n",
       "| male   | Don          |   1 |\n",
       "| male   | Dr           |   7 |\n",
       "| male   | Jonkheer     |   1 |\n",
       "| male   | Major        |   2 |\n",
       "| male   | Master       |  61 |\n",
       "| male   | Mr           | 757 |\n",
       "| male   | Rev          |   8 |\n",
       "| male   | Sir          |   1 |\n",
       "\n"
      ],
      "text/plain": [
       "   Sex    Title        n  \n",
       "1  female Dona           1\n",
       "2  female Dr             1\n",
       "3  female Lady           1\n",
       "4  female Miss         260\n",
       "5  female Mlle           2\n",
       "6  female Mme            1\n",
       "7  female Mrs          197\n",
       "8  female Ms             2\n",
       "9  female the Countess   1\n",
       "10 male   Capt           1\n",
       "11 male   Col            4\n",
       "12 male   Don            1\n",
       "13 male   Dr             7\n",
       "14 male   Jonkheer       1\n",
       "15 male   Major          2\n",
       "16 male   Master        61\n",
       "17 male   Mr           757\n",
       "18 male   Rev            8\n",
       "19 male   Sir            1"
      ]
     },
     "metadata": {},
     "output_type": "display_data"
    }
   ],
   "source": [
    "# Grab passenger titles\n",
    "full$Title <- gsub('(.*, )|(\\\\..*)', '', full$Name)\n",
    "full %>% group_by(Sex) %>% count(Title)"
   ]
  },
  {
   "cell_type": "code",
   "execution_count": 7,
   "metadata": {},
   "outputs": [
    {
     "data": {
      "text/html": [
       "<table>\n",
       "<caption>A grouped_df: 15 × 3</caption>\n",
       "<thead>\n",
       "\t<tr><th scope=col>Survived</th><th scope=col>Title</th><th scope=col>n</th></tr>\n",
       "\t<tr><th scope=col>&lt;int&gt;</th><th scope=col>&lt;chr&gt;</th><th scope=col>&lt;int&gt;</th></tr>\n",
       "</thead>\n",
       "<tbody>\n",
       "\t<tr><td> 0</td><td>Master</td><td> 17</td></tr>\n",
       "\t<tr><td> 0</td><td>Misc  </td><td> 15</td></tr>\n",
       "\t<tr><td> 0</td><td>Miss  </td><td> 55</td></tr>\n",
       "\t<tr><td> 0</td><td>Mr    </td><td>436</td></tr>\n",
       "\t<tr><td> 0</td><td>Mrs   </td><td> 26</td></tr>\n",
       "\t<tr><td> 1</td><td>Master</td><td> 23</td></tr>\n",
       "\t<tr><td> 1</td><td>Misc  </td><td>  8</td></tr>\n",
       "\t<tr><td> 1</td><td>Miss  </td><td>130</td></tr>\n",
       "\t<tr><td> 1</td><td>Mr    </td><td> 81</td></tr>\n",
       "\t<tr><td> 1</td><td>Mrs   </td><td>100</td></tr>\n",
       "\t<tr><td>NA</td><td>Master</td><td> 21</td></tr>\n",
       "\t<tr><td>NA</td><td>Misc  </td><td>  6</td></tr>\n",
       "\t<tr><td>NA</td><td>Miss  </td><td> 79</td></tr>\n",
       "\t<tr><td>NA</td><td>Mr    </td><td>240</td></tr>\n",
       "\t<tr><td>NA</td><td>Mrs   </td><td> 72</td></tr>\n",
       "</tbody>\n",
       "</table>\n"
      ],
      "text/latex": [
       "A grouped\\_df: 15 × 3\n",
       "\\begin{tabular}{lll}\n",
       " Survived & Title & n\\\\\n",
       " <int> & <chr> & <int>\\\\\n",
       "\\hline\n",
       "\t  0 & Master &  17\\\\\n",
       "\t  0 & Misc   &  15\\\\\n",
       "\t  0 & Miss   &  55\\\\\n",
       "\t  0 & Mr     & 436\\\\\n",
       "\t  0 & Mrs    &  26\\\\\n",
       "\t  1 & Master &  23\\\\\n",
       "\t  1 & Misc   &   8\\\\\n",
       "\t  1 & Miss   & 130\\\\\n",
       "\t  1 & Mr     &  81\\\\\n",
       "\t  1 & Mrs    & 100\\\\\n",
       "\t NA & Master &  21\\\\\n",
       "\t NA & Misc   &   6\\\\\n",
       "\t NA & Miss   &  79\\\\\n",
       "\t NA & Mr     & 240\\\\\n",
       "\t NA & Mrs    &  72\\\\\n",
       "\\end{tabular}\n"
      ],
      "text/markdown": [
       "\n",
       "A grouped_df: 15 × 3\n",
       "\n",
       "| Survived &lt;int&gt; | Title &lt;chr&gt; | n &lt;int&gt; |\n",
       "|---|---|---|\n",
       "|  0 | Master |  17 |\n",
       "|  0 | Misc   |  15 |\n",
       "|  0 | Miss   |  55 |\n",
       "|  0 | Mr     | 436 |\n",
       "|  0 | Mrs    |  26 |\n",
       "|  1 | Master |  23 |\n",
       "|  1 | Misc   |   8 |\n",
       "|  1 | Miss   | 130 |\n",
       "|  1 | Mr     |  81 |\n",
       "|  1 | Mrs    | 100 |\n",
       "| NA | Master |  21 |\n",
       "| NA | Misc   |   6 |\n",
       "| NA | Miss   |  79 |\n",
       "| NA | Mr     | 240 |\n",
       "| NA | Mrs    |  72 |\n",
       "\n"
      ],
      "text/plain": [
       "   Survived Title  n  \n",
       "1   0       Master  17\n",
       "2   0       Misc    15\n",
       "3   0       Miss    55\n",
       "4   0       Mr     436\n",
       "5   0       Mrs     26\n",
       "6   1       Master  23\n",
       "7   1       Misc     8\n",
       "8   1       Miss   130\n",
       "9   1       Mr      81\n",
       "10  1       Mrs    100\n",
       "11 NA       Master  21\n",
       "12 NA       Misc     6\n",
       "13 NA       Miss    79\n",
       "14 NA       Mr     240\n",
       "15 NA       Mrs     72"
      ]
     },
     "metadata": {},
     "output_type": "display_data"
    }
   ],
   "source": [
    "# Let's condense these a bit. The titles below are too uncommon to really help, I think.\n",
    "misc <- c('Dona', 'Dr', 'Lady', 'the Countess', 'Capt', 'Col', 'Don', 'Dr', 'Jonkheer', 'Major', 'Rev', 'Sir')\n",
    "full$Title[full$Title %in% misc] <- 'Misc'\n",
    "\n",
    "# 'Mlle' and 'Ms' can be renamed to the more prevalent 'Miss' title. Same for 'Mme' and 'Mrs'.\n",
    "full$Title[full$Title == 'Mlle'] <- 'Miss' \n",
    "full$Title[full$Title == 'Ms'] <- 'Miss'\n",
    "full$Title[full$Title == 'Mme'] <- 'Mrs'\n",
    "\n",
    "full %>% group_by(Survived) %>% count(Title)"
   ]
  },
  {
   "cell_type": "markdown",
   "metadata": {},
   "source": [
    "That may come in handy in the future. We can see a clear, positive survival rate for women, regardless of marital status. Interestingly, while 'Misters' seem to die at a very high rate, 'Masters' came out ahead, slightly. I'm unsure if that is anything but pure coincidence, but it's interesting, nonetheless.\n",
    "\n",
    "**TODO:** Pulling out surnames to group families together could provide an additional useful data point; however, I have noted that some passengers boarded with both their married family as well as their family by birth. Also, in at least one case, I noted a married woman, Mrs. Johan Ahlin née Johanna Persdotter Larsson, who boarded with her brother, Mr. Johan Emil Petterson, and, as you can see, neither her married nor her maiden name was the same as her brothers, making linking them programmatically beyond my abilities. Still, I may try this again with surnames included."
   ]
  },
  {
   "cell_type": "markdown",
   "metadata": {},
   "source": [
    "## Sex\n",
    "From the data we derived from passenger names, it looks like women had a higher survival rate. But let's double-check."
   ]
  },
  {
   "cell_type": "code",
   "execution_count": 8,
   "metadata": {},
   "outputs": [
    {
     "data": {
      "text/plain": [
       "   \n",
       "    female male\n",
       "  0     81  468\n",
       "  1    233  109"
      ]
     },
     "metadata": {},
     "output_type": "display_data"
    }
   ],
   "source": [
    "# lets see if we see any obvious death/survival correlations with the data at hand.\n",
    "table(full$Survived, full$Sex)"
   ]
  },
  {
   "cell_type": "markdown",
   "metadata": {},
   "source": [
    "That's pretty straightforward data, there. Let's move on to the next column, which I also predict will be a key factor.\n",
    "\n",
    "## Age\n",
    "We will actually skip this one for now, since I know there are missing values in this column, and I'd like to deal with them all at once.\n",
    "\n",
    "## Family (SibSp & Parch)\n",
    "There's definitely some data we can pull from here. Are families or single passengers more likely to survive? Does family size matter?"
   ]
  },
  {
   "cell_type": "code",
   "execution_count": 9,
   "metadata": {},
   "outputs": [
    {
     "data": {
      "image/png": "[encoded data removed]",
      "text/plain": [
       "plot without title"
      ]
     },
     "metadata": {
      "image/png": {
       "height": 420,
       "width": 420
      }
     },
     "output_type": "display_data"
    }
   ],
   "source": [
    "# First, let's create a family variable\n",
    "full$FamSize <- full$SibSp + full$Parch + 1\n",
    "\n",
    "# Let's get fancy with graphs\n",
    "ggplot(full[1:891,], aes(x = FamSize, fill = factor(Survived))) +\n",
    "    geom_bar(stat = 'count', position = 'dodge') +\n",
    "    scale_x_continuous(breaks = c(min(full$FamSize):max(full$FamSize))) +\n",
    "    labs(x = 'Family Size') +\n",
    "    theme_few()"
   ]
  },
  {
   "cell_type": "markdown",
   "metadata": {},
   "source": [
    "Small families seemed to fair reasonably well, while single people (whom we've already seen are mostly male and therefore more likely to have perished) and very large families did worse."
   ]
  },
  {
   "cell_type": "markdown",
   "metadata": {},
   "source": [
    "## Ticket\n",
    "Hmmm, not sure what could be done with this. Perhaps some outside research would yield hidden information buried in these ticket numbers, but I don't see anything obviously useful.\n",
    "\n",
    "## Fare\n",
    "We already know that Passenger class played a role in survival, so I'm unsure what additional data this will yield. I'll keep it in mind, maybe it will prove useful."
   ]
  },
  {
   "cell_type": "markdown",
   "metadata": {},
   "source": [
    "## Cabin\n",
    "We know the Titanic struck the iceburg at 11:40pm, so there's a good chance that a number of passengers were in their rooms when the ship began to sink, so what deck they were on probably had some influence on survival. Looking at the data, it's obvious that a lot of data regarding where passengers were staying was lost in the crash and White Star apparently didn't log this information anywhere but the ship. We do know, though, how much passengers paid and what class they were in, so perhaps we can make an estimation on what floor each passenger was likely to stay on. We could probably also assign a cabin number if we pulled some data from Titanic blueprints, but let's hold off on that for now."
   ]
  },
  {
   "cell_type": "code",
   "execution_count": 10,
   "metadata": {},
   "outputs": [],
   "source": [
    "# Create a Deck variable. Get passenger decks A - G (plus the one guy known to be staying on Deck T, aka the Boat Deck):\n",
    "full$Deck<-factor(sapply(full$Cabin, function(x) strsplit(x, NULL)[[1]][1]))"
   ]
  },
  {
   "cell_type": "markdown",
   "metadata": {},
   "source": [
    "## Embarked\n",
    "And now we reach the last of our given data, port of embarkation. This may be useful in filling in some other missing fields, but unless the majority of the passengers embarking out of, say, Queensland, just so happened to be remarkable swimmers with an impressive resistance to freezing waters, I don't believe it will have a direct correlation to survival."
   ]
  },
  {
   "cell_type": "code",
   "execution_count": 11,
   "metadata": {},
   "outputs": [
    {
     "data": {
      "text/plain": [
       "   \n",
       "      1   2   3\n",
       "  C 141  28 101\n",
       "  Q   3   7 113\n",
       "  S 177 242 495"
      ]
     },
     "metadata": {},
     "output_type": "display_data"
    },
    {
     "data": {
      "text/plain": [
       "   \n",
       "    female male\n",
       "  C    113  157\n",
       "  Q     60   63\n",
       "  S    291  623"
      ]
     },
     "metadata": {},
     "output_type": "display_data"
    },
    {
     "data": {
      "text/plain": [
       "   \n",
       "      0   1\n",
       "  C  75  93\n",
       "  Q  47  30\n",
       "  S 427 217"
      ]
     },
     "metadata": {},
     "output_type": "display_data"
    }
   ],
   "source": [
    "# Out of curiosity, though, let's look at a few things.\n",
    "table(full$Embarked, full$Pclass)\n",
    "table(full$Embarked, full$Sex)\n",
    "table(full$Embarked, full$Survived)"
   ]
  },
  {
   "cell_type": "markdown",
   "metadata": {},
   "source": [
    "# Imputation\n",
    "We've got missing values, let's fill those in."
   ]
  },
  {
   "cell_type": "markdown",
   "metadata": {},
   "source": [
    "Lots of 3rd class men came out of Southampton, perhaps laborers and the like looking to migrate to America?"
   ]
  },
  {
   "cell_type": "code",
   "execution_count": 12,
   "metadata": {},
   "outputs": [
    {
     "data": {
      "text/html": [
       "<style>\n",
       ".dl-inline {width: auto; margin:0; padding: 0}\n",
       ".dl-inline>dt, .dl-inline>dd {float: none; width: auto; display: inline-block}\n",
       ".dl-inline>dt::after {content: \":\\0020\"; padding-right: .5ex}\n",
       ".dl-inline>dt:not(:first-of-type) {padding-left: .5ex}\n",
       "</style><dl class=dl-inline><dt>PassengerId</dt><dd>0</dd><dt>Survived</dt><dd>418</dd><dt>Pclass</dt><dd>0</dd><dt>Name</dt><dd>0</dd><dt>Sex</dt><dd>0</dd><dt>Age</dt><dd>263</dd><dt>SibSp</dt><dd>0</dd><dt>Parch</dt><dd>0</dd><dt>Ticket</dt><dd>0</dd><dt>Fare</dt><dd>1</dd><dt>Cabin</dt><dd>1014</dd><dt>Embarked</dt><dd>2</dd><dt>Title</dt><dd>0</dd><dt>FamSize</dt><dd>0</dd><dt>Deck</dt><dd>1014</dd></dl>\n"
      ],
      "text/latex": [
       "\\begin{description*}\n",
       "\\item[PassengerId] 0\n",
       "\\item[Survived] 418\n",
       "\\item[Pclass] 0\n",
       "\\item[Name] 0\n",
       "\\item[Sex] 0\n",
       "\\item[Age] 263\n",
       "\\item[SibSp] 0\n",
       "\\item[Parch] 0\n",
       "\\item[Ticket] 0\n",
       "\\item[Fare] 1\n",
       "\\item[Cabin] 1014\n",
       "\\item[Embarked] 2\n",
       "\\item[Title] 0\n",
       "\\item[FamSize] 0\n",
       "\\item[Deck] 1014\n",
       "\\end{description*}\n"
      ],
      "text/markdown": [
       "PassengerId\n",
       ":   0Survived\n",
       ":   418Pclass\n",
       ":   0Name\n",
       ":   0Sex\n",
       ":   0Age\n",
       ":   263SibSp\n",
       ":   0Parch\n",
       ":   0Ticket\n",
       ":   0Fare\n",
       ":   1Cabin\n",
       ":   1014Embarked\n",
       ":   2Title\n",
       ":   0FamSize\n",
       ":   0Deck\n",
       ":   1014\n",
       "\n"
      ],
      "text/plain": [
       "PassengerId    Survived      Pclass        Name         Sex         Age \n",
       "          0         418           0           0           0         263 \n",
       "      SibSp       Parch      Ticket        Fare       Cabin    Embarked \n",
       "          0           0           0           1        1014           2 \n",
       "      Title     FamSize        Deck \n",
       "          0           0        1014 "
      ]
     },
     "metadata": {},
     "output_type": "display_data"
    }
   ],
   "source": [
    "# What values are missing?\n",
    "sapply(full, function(x) sum(is.na(x)))"
   ]
  },
  {
   "cell_type": "code",
   "execution_count": 13,
   "metadata": {},
   "outputs": [
    {
     "data": {
      "text/html": [
       "<style>\n",
       ".dl-inline {width: auto; margin:0; padding: 0}\n",
       ".dl-inline>dt, .dl-inline>dd {float: none; width: auto; display: inline-block}\n",
       ".dl-inline>dt::after {content: \":\\0020\"; padding-right: .5ex}\n",
       ".dl-inline>dt:not(:first-of-type) {padding-left: .5ex}\n",
       "</style><dl class=dl-inline><dt>PassengerId</dt><dd>0</dd><dt>Survived</dt><dd>31.9327731092437</dd><dt>Pclass</dt><dd>0</dd><dt>Name</dt><dd>0</dd><dt>Sex</dt><dd>0</dd><dt>Age</dt><dd>20.0916730328495</dd><dt>SibSp</dt><dd>0</dd><dt>Parch</dt><dd>0</dd><dt>Ticket</dt><dd>0</dd><dt>Fare</dt><dd>0.0763941940412529</dd><dt>Cabin</dt><dd>77.4637127578304</dd><dt>Embarked</dt><dd>0.152788388082506</dd><dt>Title</dt><dd>0</dd><dt>FamSize</dt><dd>0</dd><dt>Deck</dt><dd>77.4637127578304</dd></dl>\n"
      ],
      "text/latex": [
       "\\begin{description*}\n",
       "\\item[PassengerId] 0\n",
       "\\item[Survived] 31.9327731092437\n",
       "\\item[Pclass] 0\n",
       "\\item[Name] 0\n",
       "\\item[Sex] 0\n",
       "\\item[Age] 20.0916730328495\n",
       "\\item[SibSp] 0\n",
       "\\item[Parch] 0\n",
       "\\item[Ticket] 0\n",
       "\\item[Fare] 0.0763941940412529\n",
       "\\item[Cabin] 77.4637127578304\n",
       "\\item[Embarked] 0.152788388082506\n",
       "\\item[Title] 0\n",
       "\\item[FamSize] 0\n",
       "\\item[Deck] 77.4637127578304\n",
       "\\end{description*}\n"
      ],
      "text/markdown": [
       "PassengerId\n",
       ":   0Survived\n",
       ":   31.9327731092437Pclass\n",
       ":   0Name\n",
       ":   0Sex\n",
       ":   0Age\n",
       ":   20.0916730328495SibSp\n",
       ":   0Parch\n",
       ":   0Ticket\n",
       ":   0Fare\n",
       ":   0.0763941940412529Cabin\n",
       ":   77.4637127578304Embarked\n",
       ":   0.152788388082506Title\n",
       ":   0FamSize\n",
       ":   0Deck\n",
       ":   77.4637127578304\n",
       "\n"
      ],
      "text/plain": [
       "PassengerId    Survived      Pclass        Name         Sex         Age \n",
       " 0.00000000 31.93277311  0.00000000  0.00000000  0.00000000 20.09167303 \n",
       "      SibSp       Parch      Ticket        Fare       Cabin    Embarked \n",
       " 0.00000000  0.00000000  0.00000000  0.07639419 77.46371276  0.15278839 \n",
       "      Title     FamSize        Deck \n",
       " 0.00000000  0.00000000 77.46371276 "
      ]
     },
     "metadata": {},
     "output_type": "display_data"
    }
   ],
   "source": [
    "# We want each column to have at most 5% missing values, so lets see which columns will need work.   \n",
    "pMiss <- function(x){sum(is.na(x))/length(x)*100}\n",
    "apply(full,2,pMiss)"
   ]
  },
  {
   "cell_type": "markdown",
   "metadata": {},
   "source": [
    "Fare and Embarked are simple, we can probably do those ourselves. Age and Deck are missing quite a few more values, so we'll rely on MICE (Multivariate Imputation by Chained Equations) to calculate missing values."
   ]
  },
  {
   "cell_type": "code",
   "execution_count": 14,
   "metadata": {},
   "outputs": [
    {
     "data": {
      "text/html": [
       "1044"
      ],
      "text/latex": [
       "1044"
      ],
      "text/markdown": [
       "1044"
      ],
      "text/plain": [
       "[1] 1044"
      ]
     },
     "metadata": {},
     "output_type": "display_data"
    }
   ],
   "source": [
    "# Let's do the easy ones first.\n",
    "which(is.na(full$Fare), arr.ind=TRUE)"
   ]
  },
  {
   "cell_type": "code",
   "execution_count": 15,
   "metadata": {},
   "outputs": [
    {
     "name": "stdout",
     "output_type": "stream",
     "text": [
      "'data.frame':\t1 obs. of  2 variables:\n",
      " $ Pclass  : int 3\n",
      " $ Embarked: chr \"S\"\n"
     ]
    },
    {
     "data": {
      "text/html": [
       "<table>\n",
       "<caption>A data.frame: 96 × 2</caption>\n",
       "<thead>\n",
       "\t<tr><th scope=col>Fare</th><th scope=col>n</th></tr>\n",
       "\t<tr><th scope=col>&lt;dbl&gt;</th><th scope=col>&lt;int&gt;</th></tr>\n",
       "</thead>\n",
       "<tbody>\n",
       "\t<tr><td> 8.0500</td><td>60</td></tr>\n",
       "\t<tr><td> 7.8958</td><td>43</td></tr>\n",
       "\t<tr><td> 7.7750</td><td>26</td></tr>\n",
       "\t<tr><td> 7.9250</td><td>23</td></tr>\n",
       "\t<tr><td> 7.8542</td><td>21</td></tr>\n",
       "\t<tr><td> 8.6625</td><td>20</td></tr>\n",
       "\t<tr><td> 7.2500</td><td>17</td></tr>\n",
       "\t<tr><td> 9.5000</td><td>12</td></tr>\n",
       "\t<tr><td>16.1000</td><td>12</td></tr>\n",
       "\t<tr><td>69.5500</td><td>11</td></tr>\n",
       "\t<tr><td> 7.7958</td><td>10</td></tr>\n",
       "\t<tr><td> 7.0500</td><td> 9</td></tr>\n",
       "\t<tr><td>14.5000</td><td> 9</td></tr>\n",
       "\t<tr><td> 7.5500</td><td> 8</td></tr>\n",
       "\t<tr><td>46.9000</td><td> 8</td></tr>\n",
       "\t<tr><td>56.4958</td><td> 8</td></tr>\n",
       "\t<tr><td>31.2750</td><td> 7</td></tr>\n",
       "\t<tr><td>31.3875</td><td> 7</td></tr>\n",
       "\t<tr><td>39.6875</td><td> 7</td></tr>\n",
       "\t<tr><td> 7.6500</td><td> 6</td></tr>\n",
       "\t<tr><td>24.1500</td><td> 6</td></tr>\n",
       "\t<tr><td>27.9000</td><td> 6</td></tr>\n",
       "\t<tr><td> 7.7500</td><td> 5</td></tr>\n",
       "\t<tr><td>21.0750</td><td> 5</td></tr>\n",
       "\t<tr><td>25.4667</td><td> 5</td></tr>\n",
       "\t<tr><td>34.3750</td><td> 5</td></tr>\n",
       "\t<tr><td> 7.1250</td><td> 4</td></tr>\n",
       "\t<tr><td>12.4750</td><td> 4</td></tr>\n",
       "\t<tr><td>15.8500</td><td> 4</td></tr>\n",
       "\t<tr><td>18.0000</td><td> 4</td></tr>\n",
       "\t<tr><td>...</td><td>...</td></tr>\n",
       "\t<tr><td> 6.4500</td><td>1</td></tr>\n",
       "\t<tr><td> 7.0458</td><td>1</td></tr>\n",
       "\t<tr><td> 7.1417</td><td>1</td></tr>\n",
       "\t<tr><td> 7.3125</td><td>1</td></tr>\n",
       "\t<tr><td> 7.5208</td><td>1</td></tr>\n",
       "\t<tr><td> 7.5750</td><td>1</td></tr>\n",
       "\t<tr><td> 7.5792</td><td>1</td></tr>\n",
       "\t<tr><td> 7.8000</td><td>1</td></tr>\n",
       "\t<tr><td> 7.8500</td><td>1</td></tr>\n",
       "\t<tr><td> 7.8750</td><td>1</td></tr>\n",
       "\t<tr><td> 7.8792</td><td>1</td></tr>\n",
       "\t<tr><td> 8.1583</td><td>1</td></tr>\n",
       "\t<tr><td> 8.3000</td><td>1</td></tr>\n",
       "\t<tr><td> 8.3625</td><td>1</td></tr>\n",
       "\t<tr><td> 8.4042</td><td>1</td></tr>\n",
       "\t<tr><td> 8.4333</td><td>1</td></tr>\n",
       "\t<tr><td> 8.6542</td><td>1</td></tr>\n",
       "\t<tr><td> 8.6833</td><td>1</td></tr>\n",
       "\t<tr><td> 8.7125</td><td>1</td></tr>\n",
       "\t<tr><td> 8.8500</td><td>1</td></tr>\n",
       "\t<tr><td> 8.9625</td><td>1</td></tr>\n",
       "\t<tr><td> 9.2167</td><td>1</td></tr>\n",
       "\t<tr><td> 9.3250</td><td>1</td></tr>\n",
       "\t<tr><td> 9.4750</td><td>1</td></tr>\n",
       "\t<tr><td> 9.4833</td><td>1</td></tr>\n",
       "\t<tr><td> 9.8375</td><td>1</td></tr>\n",
       "\t<tr><td> 9.8417</td><td>1</td></tr>\n",
       "\t<tr><td> 9.8458</td><td>1</td></tr>\n",
       "\t<tr><td>10.1708</td><td>1</td></tr>\n",
       "\t<tr><td>10.5167</td><td>1</td></tr>\n",
       "</tbody>\n",
       "</table>\n"
      ],
      "text/latex": [
       "A data.frame: 96 × 2\n",
       "\\begin{tabular}{ll}\n",
       " Fare & n\\\\\n",
       " <dbl> & <int>\\\\\n",
       "\\hline\n",
       "\t  8.0500 & 60\\\\\n",
       "\t  7.8958 & 43\\\\\n",
       "\t  7.7750 & 26\\\\\n",
       "\t  7.9250 & 23\\\\\n",
       "\t  7.8542 & 21\\\\\n",
       "\t  8.6625 & 20\\\\\n",
       "\t  7.2500 & 17\\\\\n",
       "\t  9.5000 & 12\\\\\n",
       "\t 16.1000 & 12\\\\\n",
       "\t 69.5500 & 11\\\\\n",
       "\t  7.7958 & 10\\\\\n",
       "\t  7.0500 &  9\\\\\n",
       "\t 14.5000 &  9\\\\\n",
       "\t  7.5500 &  8\\\\\n",
       "\t 46.9000 &  8\\\\\n",
       "\t 56.4958 &  8\\\\\n",
       "\t 31.2750 &  7\\\\\n",
       "\t 31.3875 &  7\\\\\n",
       "\t 39.6875 &  7\\\\\n",
       "\t  7.6500 &  6\\\\\n",
       "\t 24.1500 &  6\\\\\n",
       "\t 27.9000 &  6\\\\\n",
       "\t  7.7500 &  5\\\\\n",
       "\t 21.0750 &  5\\\\\n",
       "\t 25.4667 &  5\\\\\n",
       "\t 34.3750 &  5\\\\\n",
       "\t  7.1250 &  4\\\\\n",
       "\t 12.4750 &  4\\\\\n",
       "\t 15.8500 &  4\\\\\n",
       "\t 18.0000 &  4\\\\\n",
       "\t ... & ...\\\\\n",
       "\t  6.4500 & 1\\\\\n",
       "\t  7.0458 & 1\\\\\n",
       "\t  7.1417 & 1\\\\\n",
       "\t  7.3125 & 1\\\\\n",
       "\t  7.5208 & 1\\\\\n",
       "\t  7.5750 & 1\\\\\n",
       "\t  7.5792 & 1\\\\\n",
       "\t  7.8000 & 1\\\\\n",
       "\t  7.8500 & 1\\\\\n",
       "\t  7.8750 & 1\\\\\n",
       "\t  7.8792 & 1\\\\\n",
       "\t  8.1583 & 1\\\\\n",
       "\t  8.3000 & 1\\\\\n",
       "\t  8.3625 & 1\\\\\n",
       "\t  8.4042 & 1\\\\\n",
       "\t  8.4333 & 1\\\\\n",
       "\t  8.6542 & 1\\\\\n",
       "\t  8.6833 & 1\\\\\n",
       "\t  8.7125 & 1\\\\\n",
       "\t  8.8500 & 1\\\\\n",
       "\t  8.9625 & 1\\\\\n",
       "\t  9.2167 & 1\\\\\n",
       "\t  9.3250 & 1\\\\\n",
       "\t  9.4750 & 1\\\\\n",
       "\t  9.4833 & 1\\\\\n",
       "\t  9.8375 & 1\\\\\n",
       "\t  9.8417 & 1\\\\\n",
       "\t  9.8458 & 1\\\\\n",
       "\t 10.1708 & 1\\\\\n",
       "\t 10.5167 & 1\\\\\n",
       "\\end{tabular}\n"
      ],
      "text/markdown": [
       "\n",
       "A data.frame: 96 × 2\n",
       "\n",
       "| Fare &lt;dbl&gt; | n &lt;int&gt; |\n",
       "|---|---|\n",
       "|  8.0500 | 60 |\n",
       "|  7.8958 | 43 |\n",
       "|  7.7750 | 26 |\n",
       "|  7.9250 | 23 |\n",
       "|  7.8542 | 21 |\n",
       "|  8.6625 | 20 |\n",
       "|  7.2500 | 17 |\n",
       "|  9.5000 | 12 |\n",
       "| 16.1000 | 12 |\n",
       "| 69.5500 | 11 |\n",
       "|  7.7958 | 10 |\n",
       "|  7.0500 |  9 |\n",
       "| 14.5000 |  9 |\n",
       "|  7.5500 |  8 |\n",
       "| 46.9000 |  8 |\n",
       "| 56.4958 |  8 |\n",
       "| 31.2750 |  7 |\n",
       "| 31.3875 |  7 |\n",
       "| 39.6875 |  7 |\n",
       "|  7.6500 |  6 |\n",
       "| 24.1500 |  6 |\n",
       "| 27.9000 |  6 |\n",
       "|  7.7500 |  5 |\n",
       "| 21.0750 |  5 |\n",
       "| 25.4667 |  5 |\n",
       "| 34.3750 |  5 |\n",
       "|  7.1250 |  4 |\n",
       "| 12.4750 |  4 |\n",
       "| 15.8500 |  4 |\n",
       "| 18.0000 |  4 |\n",
       "| ... | ... |\n",
       "|  6.4500 | 1 |\n",
       "|  7.0458 | 1 |\n",
       "|  7.1417 | 1 |\n",
       "|  7.3125 | 1 |\n",
       "|  7.5208 | 1 |\n",
       "|  7.5750 | 1 |\n",
       "|  7.5792 | 1 |\n",
       "|  7.8000 | 1 |\n",
       "|  7.8500 | 1 |\n",
       "|  7.8750 | 1 |\n",
       "|  7.8792 | 1 |\n",
       "|  8.1583 | 1 |\n",
       "|  8.3000 | 1 |\n",
       "|  8.3625 | 1 |\n",
       "|  8.4042 | 1 |\n",
       "|  8.4333 | 1 |\n",
       "|  8.6542 | 1 |\n",
       "|  8.6833 | 1 |\n",
       "|  8.7125 | 1 |\n",
       "|  8.8500 | 1 |\n",
       "|  8.9625 | 1 |\n",
       "|  9.2167 | 1 |\n",
       "|  9.3250 | 1 |\n",
       "|  9.4750 | 1 |\n",
       "|  9.4833 | 1 |\n",
       "|  9.8375 | 1 |\n",
       "|  9.8417 | 1 |\n",
       "|  9.8458 | 1 |\n",
       "| 10.1708 | 1 |\n",
       "| 10.5167 | 1 |\n",
       "\n"
      ],
      "text/plain": [
       "    Fare    n  \n",
       "1    8.0500 60 \n",
       "2    7.8958 43 \n",
       "3    7.7750 26 \n",
       "4    7.9250 23 \n",
       "5    7.8542 21 \n",
       "6    8.6625 20 \n",
       "7    7.2500 17 \n",
       "8    9.5000 12 \n",
       "9   16.1000 12 \n",
       "10  69.5500 11 \n",
       "11   7.7958 10 \n",
       "12   7.0500  9 \n",
       "13  14.5000  9 \n",
       "14   7.5500  8 \n",
       "15  46.9000  8 \n",
       "16  56.4958  8 \n",
       "17  31.2750  7 \n",
       "18  31.3875  7 \n",
       "19  39.6875  7 \n",
       "20   7.6500  6 \n",
       "21  24.1500  6 \n",
       "22  27.9000  6 \n",
       "23   7.7500  5 \n",
       "24  21.0750  5 \n",
       "25  25.4667  5 \n",
       "26  34.3750  5 \n",
       "27   7.1250  4 \n",
       "28  12.4750  4 \n",
       "29  15.8500  4 \n",
       "30  18.0000  4 \n",
       "... ...     ...\n",
       "67   6.4500 1  \n",
       "68   7.0458 1  \n",
       "69   7.1417 1  \n",
       "70   7.3125 1  \n",
       "71   7.5208 1  \n",
       "72   7.5750 1  \n",
       "73   7.5792 1  \n",
       "74   7.8000 1  \n",
       "75   7.8500 1  \n",
       "76   7.8750 1  \n",
       "77   7.8792 1  \n",
       "78   8.1583 1  \n",
       "79   8.3000 1  \n",
       "80   8.3625 1  \n",
       "81   8.4042 1  \n",
       "82   8.4333 1  \n",
       "83   8.6542 1  \n",
       "84   8.6833 1  \n",
       "85   8.7125 1  \n",
       "86   8.8500 1  \n",
       "87   8.9625 1  \n",
       "88   9.2167 1  \n",
       "89   9.3250 1  \n",
       "90   9.4750 1  \n",
       "91   9.4833 1  \n",
       "92   9.8375 1  \n",
       "93   9.8417 1  \n",
       "94   9.8458 1  \n",
       "95  10.1708 1  \n",
       "96  10.5167 1  "
      ]
     },
     "metadata": {},
     "output_type": "display_data"
    }
   ],
   "source": [
    "str(full[1044, c('Pclass','Embarked')])\n",
    "x <- subset(full, Pclass == 3 & Embarked == 'S' & Fare)\n",
    "\n",
    "x %>% count(Fare) %>% arrange(-n)"
   ]
  },
  {
   "cell_type": "code",
   "execution_count": 16,
   "metadata": {},
   "outputs": [],
   "source": [
    "full$Fare[1044] = 8.05"
   ]
  },
  {
   "cell_type": "code",
   "execution_count": 17,
   "metadata": {},
   "outputs": [
    {
     "data": {
      "text/html": [
       "<style>\n",
       ".list-inline {list-style: none; margin:0; padding: 0}\n",
       ".list-inline>li {display: inline-block}\n",
       ".list-inline>li:not(:last-child)::after {content: \"\\00b7\"; padding: 0 .5ex}\n",
       "</style>\n",
       "<ol class=list-inline><li>62</li><li>830</li></ol>\n"
      ],
      "text/latex": [
       "\\begin{enumerate*}\n",
       "\\item 62\n",
       "\\item 830\n",
       "\\end{enumerate*}\n"
      ],
      "text/markdown": [
       "1. 62\n",
       "2. 830\n",
       "\n",
       "\n"
      ],
      "text/plain": [
       "[1]  62 830"
      ]
     },
     "metadata": {},
     "output_type": "display_data"
    }
   ],
   "source": [
    "which(is.na(full$Embarked), arr.ind=TRUE)"
   ]
  },
  {
   "cell_type": "code",
   "execution_count": 18,
   "metadata": {},
   "outputs": [
    {
     "name": "stdout",
     "output_type": "stream",
     "text": [
      "'data.frame':\t2 obs. of  2 variables:\n",
      " $ Pclass: int  1 1\n",
      " $ Fare  : num  80 80\n"
     ]
    }
   ],
   "source": [
    "str(full[c(62, 830), c('Pclass', 'Fare')])"
   ]
  },
  {
   "cell_type": "code",
   "execution_count": 19,
   "metadata": {},
   "outputs": [
    {
     "name": "stdout",
     "output_type": "stream",
     "text": [
      "Median first class ticket price from Cherbourg was $ 76.73 , $ 90.00  for Queenstown, and $ 52.00  for Southampton."
     ]
    }
   ],
   "source": [
    "C <- full[full$Embarked == 'C' & full$Pclass == 1,]$Fare\n",
    "Q <- full[full$Embarked == 'Q' & full$Pclass == 1,]$Fare\n",
    "S <- full[full$Embarked == 'S' & full$Pclass == 1,]$Fare\n",
    "\n",
    "cat(paste('Median first class ticket price from Cherbourg was $',format(round(median(C, na.rm = TRUE), 2), nsmall = 2),', $',\n",
    "          format(round(median(Q, na.rm = TRUE), 2), nsmall = 2),' for Queenstown, and $', format(round(median(S, na.rm = TRUE), 2), nsmall = 2),\n",
    "' for Southampton.'))"
   ]
  },
  {
   "cell_type": "markdown",
   "metadata": {},
   "source": [
    "Median fare for a first class passenger out of Cherbourg was close enough to the fare paid by our two passengers that I feel confident assigning it as their port."
   ]
  },
  {
   "cell_type": "code",
   "execution_count": 20,
   "metadata": {},
   "outputs": [],
   "source": [
    "full$Embarked[c(62, 830)] <- 'C'"
   ]
  },
  {
   "cell_type": "code",
   "execution_count": 21,
   "metadata": {},
   "outputs": [
    {
     "name": "stderr",
     "output_type": "stream",
     "text": [
      "Warning message:\n",
      "\"Number of logged events: 50\"\n",
      "Warning message:\n",
      "\"Number of logged events: 50\"\n"
     ]
    }
   ],
   "source": [
    "# Now for a big one, and one I don't feel confident trying by hand: age. I'm using mice because it appears to be the gold-standard.\n",
    "# Turn our variables into factors\n",
    "factor_vars <- c('Pclass', 'Title', 'Sex', 'SibSp', 'Parch', 'Embarked')\n",
    "full[factor_vars] <- lapply(full[factor_vars], function(x) as.factor(x))\n",
    "\n",
    "# Set our random seed\n",
    "set.seed(04141912)\n",
    "\n",
    "# Do the thing\n",
    "micify_pmm <- mice(full[, !names(full) %in% c('PassengerId','Name','Ticket','Cabin','Family','Surname','Survived')], method = 'pmm', printFlag=FALSE)\n",
    "micify_rf <- mice(full[, !names(full) %in% c('PassengerId','Name','Ticket','Cabin','Family','Surname','Survived')], method = 'rf', printFlag=FALSE)"
   ]
  },
  {
   "cell_type": "code",
   "execution_count": 22,
   "metadata": {},
   "outputs": [],
   "source": [
    "mice_output_pmm <- complete(micify_pmm)\n",
    "mice_output_rf <- complete(micify_rf)"
   ]
  },
  {
   "cell_type": "code",
   "execution_count": 23,
   "metadata": {},
   "outputs": [
    {
     "data": {
      "image/png": "[encoded data removed]",
      "text/plain": [
       "Plot with title \"Age: MICE Output (pmm)\""
      ]
     },
     "metadata": {
      "image/png": {
       "height": 420,
       "width": 420
      }
     },
     "output_type": "display_data"
    },
    {
     "data": {
      "image/png": "[encoded data removed]",
      "text/plain": [
       "Plot with title \"Age: MICE Output (rf)\""
      ]
     },
     "metadata": {
      "image/png": {
       "height": 420,
       "width": 420
      }
     },
     "output_type": "display_data"
    }
   ],
   "source": [
    "# Plot age distributions\n",
    "par(mfrow=c(1,2))\n",
    "hist(full$Age, freq=F, main='Age: Original Data', \n",
    "  col='lightblue', ylim=c(0,0.04))\n",
    "hist(mice_output_pmm$Age, freq=F, main='Age: MICE Output (pmm)', \n",
    "  col='green', ylim=c(0,0.04))\n",
    "hist(mice_output_rf$Age, freq=F, main='Age: MICE Output (rf)', \n",
    "  col='pink', ylim=c(0,0.04))"
   ]
  },
  {
   "cell_type": "code",
   "execution_count": 24,
   "metadata": {},
   "outputs": [],
   "source": [
    "# The random forest imputations seems to give us data closest to the density present in the known data, so we'll go with that one.\n",
    "full$Age <- mice_output_rf$Age"
   ]
  },
  {
   "cell_type": "markdown",
   "metadata": {},
   "source": [
    "# Prediction\n",
    "\n",
    "There are definitely more things we could do as far as feature engineering, but I'm going to stop here as a first pass."
   ]
  },
  {
   "cell_type": "code",
   "execution_count": 25,
   "metadata": {},
   "outputs": [],
   "source": [
    "# Split the data back into a train set and a test set\n",
    "train <- full[1:891,]\n",
    "test <- full[892:1309,]"
   ]
  },
  {
   "cell_type": "code",
   "execution_count": 26,
   "metadata": {},
   "outputs": [],
   "source": [
    "set.seed(1500705)\n",
    "\n",
    "rf_model <- randomForest(factor(Survived) ~ Pclass + Sex + Age + Fare + \n",
    "                                            Embarked + Title + FamSize,\n",
    "                                            data = train)"
   ]
  },
  {
   "cell_type": "code",
   "execution_count": 27,
   "metadata": {},
   "outputs": [],
   "source": [
    "# Predict using the test set\n",
    "prediction <- predict(rf_model, test)\n",
    "\n",
    "# Save the solution to a dataframe with two columns: PassengerId and Survived (prediction)\n",
    "solution <- data.frame(PassengerID = test$PassengerId, Survived = prediction)\n",
    "\n",
    "# Write the solution to file\n",
    "write.csv(solution, file = 'output/Solution.csv', row.names = F)"
   ]
  },
  {
   "cell_type": "code",
   "execution_count": null,
   "metadata": {},
   "outputs": [],
   "source": []
  }
 ],
 "metadata": {
  "kernelspec": {
   "display_name": "R",
   "language": "R",
   "name": "ir"
  },
  "language_info": {
   "codemirror_mode": "r",
   "file_extension": ".r",
   "mimetype": "text/x-r-source",
   "name": "R",
   "pygments_lexer": "r",
   "version": "4.0.2"
  }
 },
 "nbformat": 4,
 "nbformat_minor": 4
}
